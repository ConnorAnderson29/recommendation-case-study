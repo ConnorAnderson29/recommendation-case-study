{
 "cells": [
  {
   "cell_type": "code",
   "execution_count": 1,
   "metadata": {},
   "outputs": [],
   "source": [
    "import numpy as np\n",
    "import pandas as pd\n",
    "from surprise.prediction_algorithms import knns\n",
    "from surprise.similarities import cosine, msd, pearson\n",
    "from surprise import accuracy\n",
    "from surprise.model_selection import cross_validate, GridSearchCV\n",
    "from surprise.prediction_algorithms import SVD, KNNWithMeans, KNNBasic, KNNBaseline\n",
    "from sklearn.preprocessing import OneHotEncoder\n",
    "\n",
    "from pyspark.sql import SparkSession\n",
    "from pyspark.ml.evaluation import RegressionEvaluator\n",
    "from pyspark.ml.recommendation import ALS, ALSModel"
   ]
  },
  {
   "cell_type": "code",
   "execution_count": 2,
   "metadata": {},
   "outputs": [],
   "source": [
    "spark = SparkSession.builder.master('local').getOrCreate() "
   ]
  },
  {
   "cell_type": "code",
   "execution_count": 3,
   "metadata": {},
   "outputs": [],
   "source": [
    "ratings = spark.read.json('data/ratings.json')#, schema=schema)"
   ]
  },
  {
   "cell_type": "code",
   "execution_count": 4,
   "metadata": {},
   "outputs": [
    {
     "data": {
      "text/plain": [
       "[('movie_id', 'bigint'),\n",
       " ('rating', 'bigint'),\n",
       " ('timestamp', 'double'),\n",
       " ('user_id', 'bigint')]"
      ]
     },
     "execution_count": 4,
     "metadata": {},
     "output_type": "execute_result"
    }
   ],
   "source": [
    "ratings.persist()\n",
    "ratings.dtypes"
   ]
  },
  {
   "cell_type": "code",
   "execution_count": 5,
   "metadata": {},
   "outputs": [],
   "source": [
    "als = ALS(maxIter=10,\n",
    "          rank=10,\n",
    "          userCol=\"user_id\", \n",
    "          itemCol=\"movie_id\", \n",
    "          ratingCol=\"rating\")\n",
    "\n",
    "model = als.fit(ratings)"
   ]
  },
  {
   "cell_type": "code",
   "execution_count": 6,
   "metadata": {},
   "outputs": [
    {
     "name": "stdout",
     "output_type": "stream",
     "text": [
      "Root-mean-square error = 0.812343252261968\n"
     ]
    }
   ],
   "source": [
    "predictions = model.transform(ratings)\n",
    "predictions.persist()\n",
    "evaluator = RegressionEvaluator(metricName='rmse',\n",
    "                               labelCol='rating',\n",
    "                               predictionCol='prediction')\n",
    "rmse = evaluator.evaluate(predictions)\n",
    "print(\"Root-mean-square error = \" + str(rmse))"
   ]
  },
  {
   "cell_type": "code",
   "execution_count": 7,
   "metadata": {},
   "outputs": [
    {
     "name": "stdout",
     "output_type": "stream",
     "text": [
      "+--------+------+------------+-------+----------+\n",
      "|movie_id|rating|   timestamp|user_id|prediction|\n",
      "+--------+------+------------+-------+----------+\n",
      "|     148|     5|9.75592024E8|    673| 4.1599784|\n",
      "|     148|     2|9.65634524E8|   4227| 1.9720497|\n",
      "|     148|     4|9.68683753E8|   3184| 3.4084134|\n",
      "|     148|     3| 9.6997537E8|   4784| 2.9059458|\n",
      "|     148|     2|9.74388854E8|   2383| 2.3460627|\n",
      "+--------+------+------------+-------+----------+\n",
      "only showing top 5 rows\n",
      "\n"
     ]
    }
   ],
   "source": [
    "predictions.persist()\n",
    "predictions.show(5)"
   ]
  },
  {
   "cell_type": "code",
   "execution_count": null,
   "metadata": {},
   "outputs": [],
   "source": []
  },
  {
   "cell_type": "code",
   "execution_count": 8,
   "metadata": {},
   "outputs": [
    {
     "data": {
      "text/plain": [
       "[('movie_id', 'bigint'),\n",
       " ('rating', 'double'),\n",
       " ('timestamp', 'double'),\n",
       " ('user_id', 'bigint')]"
      ]
     },
     "execution_count": 8,
     "metadata": {},
     "output_type": "execute_result"
    }
   ],
   "source": [
    "requests = spark.read.json('data/requests.json')\n",
    "requests.dtypes"
   ]
  },
  {
   "cell_type": "code",
   "execution_count": 9,
   "metadata": {},
   "outputs": [
    {
     "name": "stdout",
     "output_type": "stream",
     "text": [
      "+--------+------+------------+-------+\n",
      "|movie_id|rating|   timestamp|user_id|\n",
      "+--------+------+------------+-------+\n",
      "|    2019|   NaN|9.56678777E8|   6040|\n",
      "|     759|   NaN|9.56679248E8|   6040|\n",
      "|    2858|   NaN|9.56679275E8|   6040|\n",
      "|     246|   NaN|9.56679413E8|   6040|\n",
      "|    1617|   NaN|9.56679473E8|   6040|\n",
      "+--------+------+------------+-------+\n",
      "only showing top 5 rows\n",
      "\n"
     ]
    }
   ],
   "source": [
    "requests.show(5)"
   ]
  },
  {
   "cell_type": "code",
   "execution_count": 10,
   "metadata": {},
   "outputs": [],
   "source": [
    "req_predict = model.transform(requests)"
   ]
  },
  {
   "cell_type": "code",
   "execution_count": 11,
   "metadata": {},
   "outputs": [
    {
     "name": "stdout",
     "output_type": "stream",
     "text": [
      "+--------+------+------------+-------+----------+\n",
      "|movie_id|rating|   timestamp|user_id|prediction|\n",
      "+--------+------+------------+-------+----------+\n",
      "|     148|   NaN|9.77959026E8|     53|       NaN|\n",
      "|     148|   NaN|9.76559602E8|   4169| 3.1403506|\n",
      "|     148|   NaN|9.89024856E8|   5333|  2.441079|\n",
      "|     148|   NaN|9.77005381E8|   4387|   2.39551|\n",
      "|     148|   NaN|9.66907208E8|   3539| 2.8318474|\n",
      "+--------+------+------------+-------+----------+\n",
      "only showing top 5 rows\n",
      "\n"
     ]
    }
   ],
   "source": [
    "req_predict.show(5)"
   ]
  },
  {
   "cell_type": "code",
   "execution_count": 12,
   "metadata": {},
   "outputs": [
    {
     "name": "stdout",
     "output_type": "stream",
     "text": [
      "+--------+------------+-------+---------+\n",
      "|movie_id|   timestamp|user_id|   rating|\n",
      "+--------+------------+-------+---------+\n",
      "|     148|9.77959026E8|     53|      NaN|\n",
      "|     148|9.76559602E8|   4169|3.1403506|\n",
      "|     148|9.89024856E8|   5333| 2.441079|\n",
      "|     148|9.77005381E8|   4387|  2.39551|\n",
      "|     148|9.66907208E8|   3539|2.8318474|\n",
      "+--------+------------+-------+---------+\n",
      "only showing top 5 rows\n",
      "\n"
     ]
    }
   ],
   "source": [
    "final_requests = req_predict.drop('rating')\n",
    "final_requests = final_requests.withColumnRenamed('prediction','rating')\n",
    "final_requests.show(5)"
   ]
  },
  {
   "cell_type": "code",
   "execution_count": 13,
   "metadata": {},
   "outputs": [
    {
     "data": {
      "text/plain": [
       "[Row(_c0='1', _c2='Toy Story (1995)', _c4=\"Animation|Children's|Comedy\"),\n",
       " Row(_c0='2', _c2='Jumanji (1995)', _c4=\"Adventure|Children's|Fantasy\"),\n",
       " Row(_c0='3', _c2='Grumpier Old Men (1995)', _c4='Comedy|Romance'),\n",
       " Row(_c0='4', _c2='Waiting to Exhale (1995)', _c4='Comedy|Drama'),\n",
       " Row(_c0='5', _c2='Father of the Bride Part II (1995)', _c4='Comedy')]"
      ]
     },
     "execution_count": 13,
     "metadata": {},
     "output_type": "execute_result"
    }
   ],
   "source": [
    "movie_titles = spark.read.csv('data/movies.dat', sep=\":\")\n",
    "movie_titles = movie_titles.drop('_c1','_c3')\n",
    "movie_titles.persist()\n",
    "movie_titles.head(5)"
   ]
  },
  {
   "cell_type": "code",
   "execution_count": 14,
   "metadata": {},
   "outputs": [
    {
     "name": "stdout",
     "output_type": "stream",
     "text": [
      "+---+---+---+---+-----+\n",
      "|_c0|_c2|_c4|_c6|  _c8|\n",
      "+---+---+---+---+-----+\n",
      "|  1|  F|  1| 10|48067|\n",
      "|  2|  M| 56| 16|70072|\n",
      "|  3|  M| 25| 15|55117|\n",
      "|  4|  M| 45|  7|02460|\n",
      "|  5|  M| 25| 20|55455|\n",
      "+---+---+---+---+-----+\n",
      "only showing top 5 rows\n",
      "\n"
     ]
    }
   ],
   "source": [
    "users = spark.read.csv('data/users.dat', sep=':')\n",
    "users = users.drop('_c1', '_c3', '_c5', '_c7')\n",
    "users.persist()\n",
    "users.show(5)"
   ]
  },
  {
   "cell_type": "code",
   "execution_count": 15,
   "metadata": {},
   "outputs": [
    {
     "name": "stdout",
     "output_type": "stream",
     "text": [
      "+---+------+---------+----------+-------+\n",
      "| id|gender|age_group|occupation|zipcode|\n",
      "+---+------+---------+----------+-------+\n",
      "|  1|     F|        1|        10|  48067|\n",
      "|  2|     M|       56|        16|  70072|\n",
      "|  3|     M|       25|        15|  55117|\n",
      "|  4|     M|       45|         7|  02460|\n",
      "|  5|     M|       25|        20|  55455|\n",
      "+---+------+---------+----------+-------+\n",
      "only showing top 5 rows\n",
      "\n"
     ]
    }
   ],
   "source": [
    "old_cols = ['_c0','_c2','_c4', '_c6', '_c8']\n",
    "new_cols = ['id','gender','age_group','occupation','zipcode']\n",
    "\n",
    "def rename_cols(new_cols,old_cols,data):\n",
    "    for i in range(len(old_cols)):\n",
    "        data = data.withColumnRenamed(old_cols[i],new_cols[i])\n",
    "    return data\n",
    "\n",
    "users = rename_cols(new_cols,old_cols,users)\n",
    "users.show(5)"
   ]
  },
  {
   "cell_type": "code",
   "execution_count": 16,
   "metadata": {},
   "outputs": [
    {
     "name": "stdout",
     "output_type": "stream",
     "text": [
      "+---+--------------------+--------------------+\n",
      "| id|               title|               genre|\n",
      "+---+--------------------+--------------------+\n",
      "|  1|    Toy Story (1995)|Animation|Childre...|\n",
      "|  2|      Jumanji (1995)|Adventure|Childre...|\n",
      "|  3|Grumpier Old Men ...|      Comedy|Romance|\n",
      "|  4|Waiting to Exhale...|        Comedy|Drama|\n",
      "|  5|Father of the Bri...|              Comedy|\n",
      "+---+--------------------+--------------------+\n",
      "only showing top 5 rows\n",
      "\n"
     ]
    }
   ],
   "source": [
    "new = ['id','title','genre']\n",
    "old = ['_c0', '_c2','_c4']\n",
    "\n",
    "movie_titles = rename_cols(new,old,movie_titles)\n",
    "movie_titles.show(5)"
   ]
  },
  {
   "cell_type": "code",
   "execution_count": 17,
   "metadata": {},
   "outputs": [
    {
     "name": "stdout",
     "output_type": "stream",
     "text": [
      "+--------+------+------------+-------+----+--------------------+------------------+----+------+---------+----------+-------+\n",
      "|movie_id|rating|   timestamp|user_id|  id|               title|             genre|  id|gender|age_group|occupation|zipcode|\n",
      "+--------+------+------------+-------+----+--------------------+------------------+----+------+---------+----------+-------+\n",
      "|     858|     4|9.56678732E8|   6040| 858|Godfather, The (1...|Action|Crime|Drama|6040|     M|       25|         6|  11106|\n",
      "|    2384|     4|9.56678754E8|   6040|2384|                Babe|              null|6040|     M|       25|         6|  11106|\n",
      "|     593|     5|9.56678754E8|   6040| 593|Silence of the La...|    Drama|Thriller|6040|     M|       25|         6|  11106|\n",
      "|    1961|     4|9.56678777E8|   6040|1961|     Rain Man (1988)|             Drama|6040|     M|       25|         6|  11106|\n",
      "|    1419|     3|9.56678856E8|   6040|1419|    Walkabout (1971)|             Drama|6040|     M|       25|         6|  11106|\n",
      "+--------+------+------------+-------+----+--------------------+------------------+----+------+---------+----------+-------+\n",
      "only showing top 5 rows\n",
      "\n"
     ]
    }
   ],
   "source": [
    "fulldata = ratings.join(movie_titles, ratings.movie_id == movie_titles.id)\n",
    "fulldata = fulldata.join(users, fulldata.user_id == users.id)\n",
    "fulldata.show(5)"
   ]
  },
  {
   "cell_type": "code",
   "execution_count": 18,
   "metadata": {},
   "outputs": [
    {
     "name": "stdout",
     "output_type": "stream",
     "text": [
      "+--------+------+------------+-------+--------------------+------------------+------+---------+----------+-------+\n",
      "|movie_id|rating|   timestamp|user_id|               title|             genre|gender|age_group|occupation|zipcode|\n",
      "+--------+------+------------+-------+--------------------+------------------+------+---------+----------+-------+\n",
      "|     858|     4|9.56678732E8|   6040|Godfather, The (1...|Action|Crime|Drama|     M|       25|         6|  11106|\n",
      "|    2384|     4|9.56678754E8|   6040|                Babe|              null|     M|       25|         6|  11106|\n",
      "|     593|     5|9.56678754E8|   6040|Silence of the La...|    Drama|Thriller|     M|       25|         6|  11106|\n",
      "|    1961|     4|9.56678777E8|   6040|     Rain Man (1988)|             Drama|     M|       25|         6|  11106|\n",
      "|    1419|     3|9.56678856E8|   6040|    Walkabout (1971)|             Drama|     M|       25|         6|  11106|\n",
      "+--------+------+------------+-------+--------------------+------------------+------+---------+----------+-------+\n",
      "only showing top 5 rows\n",
      "\n"
     ]
    }
   ],
   "source": [
    "fulldata = fulldata.drop('id')\n",
    "fulldata.show(5)"
   ]
  },
  {
   "cell_type": "code",
   "execution_count": 19,
   "metadata": {},
   "outputs": [
    {
     "name": "stdout",
     "output_type": "stream",
     "text": [
      "<class 'pandas.core.frame.DataFrame'>\n",
      "RangeIndex: 719949 entries, 0 to 719948\n",
      "Data columns (total 10 columns):\n",
      "movie_id      719949 non-null int64\n",
      "rating        719949 non-null int64\n",
      "timestamp     719949 non-null float64\n",
      "user_id       719949 non-null int64\n",
      "title         719949 non-null object\n",
      "genre         673236 non-null object\n",
      "gender        719949 non-null object\n",
      "age_group     719949 non-null object\n",
      "occupation    719949 non-null object\n",
      "zipcode       719949 non-null object\n",
      "dtypes: float64(1), int64(3), object(6)\n",
      "memory usage: 54.9+ MB\n"
     ]
    }
   ],
   "source": [
    "fulldata.toPandas().info()"
   ]
  },
  {
   "cell_type": "code",
   "execution_count": 20,
   "metadata": {},
   "outputs": [
    {
     "name": "stdout",
     "output_type": "stream",
     "text": [
      "+--------+------+------------+-------+--------------------+------------------+------+---------+----------+-------+\n",
      "|movie_id|rating|   timestamp|user_id|               title|             genre|gender|age_group|occupation|zipcode|\n",
      "+--------+------+------------+-------+--------------------+------------------+------+---------+----------+-------+\n",
      "|     858|     4|9.56678732E8|   6040|Godfather, The (1...|Action|Crime|Drama|     M|       25|         6|  11106|\n",
      "|     593|     5|9.56678754E8|   6040|Silence of the La...|    Drama|Thriller|     M|       25|         6|  11106|\n",
      "|    1961|     4|9.56678777E8|   6040|     Rain Man (1988)|             Drama|     M|       25|         6|  11106|\n",
      "|    1419|     3|9.56678856E8|   6040|    Walkabout (1971)|             Drama|     M|       25|         6|  11106|\n",
      "|     213|     5|9.56678856E8|   6040|Burnt By the Sun ...|             Drama|     M|       25|         6|  11106|\n",
      "+--------+------+------------+-------+--------------------+------------------+------+---------+----------+-------+\n",
      "only showing top 5 rows\n",
      "\n"
     ]
    }
   ],
   "source": [
    "fulldata = fulldata.dropna()\n",
    "fulldata.show(5)"
   ]
  },
  {
   "cell_type": "code",
   "execution_count": 21,
   "metadata": {},
   "outputs": [
    {
     "name": "stdout",
     "output_type": "stream",
     "text": [
      "+------+------------+------------------+------+---------+----------+\n",
      "|rating|   timestamp|             genre|gender|age_group|occupation|\n",
      "+------+------------+------------------+------+---------+----------+\n",
      "|     4|9.56678732E8|Action|Crime|Drama|     M|       25|         6|\n",
      "|     5|9.56678754E8|    Drama|Thriller|     M|       25|         6|\n",
      "|     4|9.56678777E8|             Drama|     M|       25|         6|\n",
      "|     3|9.56678856E8|             Drama|     M|       25|         6|\n",
      "|     5|9.56678856E8|             Drama|     M|       25|         6|\n",
      "+------+------------+------------------+------+---------+----------+\n",
      "only showing top 5 rows\n",
      "\n"
     ]
    }
   ],
   "source": [
    "newdata = fulldata[['rating','timestamp','genre','gender','age_group','occupation']]\n",
    "newdata.show(5)"
   ]
  },
  {
   "cell_type": "code",
   "execution_count": 22,
   "metadata": {},
   "outputs": [],
   "source": [
    "onehot = OneHotEncoder()\n",
    "cols = ['genre','gender','age_group','occupation']\n",
    "to_encode = newdata[cols].toPandas()"
   ]
  },
  {
   "cell_type": "code",
   "execution_count": 23,
   "metadata": {},
   "outputs": [],
   "source": [
    "onehot.fit(to_encode)\n",
    "new_cols = onehot.get_feature_names(cols)\n",
    "ohe_data = onehot.transform(to_encode).toarray()"
   ]
  },
  {
   "cell_type": "code",
   "execution_count": 24,
   "metadata": {},
   "outputs": [
    {
     "data": {
      "text/html": [
       "<div>\n",
       "<style scoped>\n",
       "    .dataframe tbody tr th:only-of-type {\n",
       "        vertical-align: middle;\n",
       "    }\n",
       "\n",
       "    .dataframe tbody tr th {\n",
       "        vertical-align: top;\n",
       "    }\n",
       "\n",
       "    .dataframe thead th {\n",
       "        text-align: right;\n",
       "    }\n",
       "</style>\n",
       "<table border=\"1\" class=\"dataframe\">\n",
       "  <thead>\n",
       "    <tr style=\"text-align: right;\">\n",
       "      <th></th>\n",
       "      <th>timestamp</th>\n",
       "      <th>genre_ Miami Beach (1988)</th>\n",
       "      <th>genre_Action</th>\n",
       "      <th>genre_Action|Adventure</th>\n",
       "      <th>genre_Action|Adventure|Animation</th>\n",
       "      <th>genre_Action|Adventure|Animation|Children's|Fantasy</th>\n",
       "      <th>genre_Action|Adventure|Animation|Horror|Sci-Fi</th>\n",
       "      <th>genre_Action|Adventure|Children's|Comedy</th>\n",
       "      <th>genre_Action|Adventure|Children's|Fantasy</th>\n",
       "      <th>genre_Action|Adventure|Children's|Sci-Fi</th>\n",
       "      <th>...</th>\n",
       "      <th>occupation_19</th>\n",
       "      <th>occupation_2</th>\n",
       "      <th>occupation_20</th>\n",
       "      <th>occupation_3</th>\n",
       "      <th>occupation_4</th>\n",
       "      <th>occupation_5</th>\n",
       "      <th>occupation_6</th>\n",
       "      <th>occupation_7</th>\n",
       "      <th>occupation_8</th>\n",
       "      <th>occupation_9</th>\n",
       "    </tr>\n",
       "  </thead>\n",
       "  <tbody>\n",
       "    <tr>\n",
       "      <th>0</th>\n",
       "      <td>956678732.0</td>\n",
       "      <td>0.0</td>\n",
       "      <td>0.0</td>\n",
       "      <td>0.0</td>\n",
       "      <td>0.0</td>\n",
       "      <td>0.0</td>\n",
       "      <td>0.0</td>\n",
       "      <td>0.0</td>\n",
       "      <td>0.0</td>\n",
       "      <td>0.0</td>\n",
       "      <td>...</td>\n",
       "      <td>0.0</td>\n",
       "      <td>0.0</td>\n",
       "      <td>0.0</td>\n",
       "      <td>0.0</td>\n",
       "      <td>0.0</td>\n",
       "      <td>0.0</td>\n",
       "      <td>1.0</td>\n",
       "      <td>0.0</td>\n",
       "      <td>0.0</td>\n",
       "      <td>0.0</td>\n",
       "    </tr>\n",
       "    <tr>\n",
       "      <th>1</th>\n",
       "      <td>956678754.0</td>\n",
       "      <td>0.0</td>\n",
       "      <td>0.0</td>\n",
       "      <td>0.0</td>\n",
       "      <td>0.0</td>\n",
       "      <td>0.0</td>\n",
       "      <td>0.0</td>\n",
       "      <td>0.0</td>\n",
       "      <td>0.0</td>\n",
       "      <td>0.0</td>\n",
       "      <td>...</td>\n",
       "      <td>0.0</td>\n",
       "      <td>0.0</td>\n",
       "      <td>0.0</td>\n",
       "      <td>0.0</td>\n",
       "      <td>0.0</td>\n",
       "      <td>0.0</td>\n",
       "      <td>1.0</td>\n",
       "      <td>0.0</td>\n",
       "      <td>0.0</td>\n",
       "      <td>0.0</td>\n",
       "    </tr>\n",
       "    <tr>\n",
       "      <th>2</th>\n",
       "      <td>956678777.0</td>\n",
       "      <td>0.0</td>\n",
       "      <td>0.0</td>\n",
       "      <td>0.0</td>\n",
       "      <td>0.0</td>\n",
       "      <td>0.0</td>\n",
       "      <td>0.0</td>\n",
       "      <td>0.0</td>\n",
       "      <td>0.0</td>\n",
       "      <td>0.0</td>\n",
       "      <td>...</td>\n",
       "      <td>0.0</td>\n",
       "      <td>0.0</td>\n",
       "      <td>0.0</td>\n",
       "      <td>0.0</td>\n",
       "      <td>0.0</td>\n",
       "      <td>0.0</td>\n",
       "      <td>1.0</td>\n",
       "      <td>0.0</td>\n",
       "      <td>0.0</td>\n",
       "      <td>0.0</td>\n",
       "    </tr>\n",
       "    <tr>\n",
       "      <th>3</th>\n",
       "      <td>956678856.0</td>\n",
       "      <td>0.0</td>\n",
       "      <td>0.0</td>\n",
       "      <td>0.0</td>\n",
       "      <td>0.0</td>\n",
       "      <td>0.0</td>\n",
       "      <td>0.0</td>\n",
       "      <td>0.0</td>\n",
       "      <td>0.0</td>\n",
       "      <td>0.0</td>\n",
       "      <td>...</td>\n",
       "      <td>0.0</td>\n",
       "      <td>0.0</td>\n",
       "      <td>0.0</td>\n",
       "      <td>0.0</td>\n",
       "      <td>0.0</td>\n",
       "      <td>0.0</td>\n",
       "      <td>1.0</td>\n",
       "      <td>0.0</td>\n",
       "      <td>0.0</td>\n",
       "      <td>0.0</td>\n",
       "    </tr>\n",
       "    <tr>\n",
       "      <th>4</th>\n",
       "      <td>956678856.0</td>\n",
       "      <td>0.0</td>\n",
       "      <td>0.0</td>\n",
       "      <td>0.0</td>\n",
       "      <td>0.0</td>\n",
       "      <td>0.0</td>\n",
       "      <td>0.0</td>\n",
       "      <td>0.0</td>\n",
       "      <td>0.0</td>\n",
       "      <td>0.0</td>\n",
       "      <td>...</td>\n",
       "      <td>0.0</td>\n",
       "      <td>0.0</td>\n",
       "      <td>0.0</td>\n",
       "      <td>0.0</td>\n",
       "      <td>0.0</td>\n",
       "      <td>0.0</td>\n",
       "      <td>1.0</td>\n",
       "      <td>0.0</td>\n",
       "      <td>0.0</td>\n",
       "      <td>0.0</td>\n",
       "    </tr>\n",
       "  </tbody>\n",
       "</table>\n",
       "<p>5 rows × 325 columns</p>\n",
       "</div>"
      ],
      "text/plain": [
       "     timestamp  genre_ Miami Beach (1988)  genre_Action  \\\n",
       "0  956678732.0                        0.0           0.0   \n",
       "1  956678754.0                        0.0           0.0   \n",
       "2  956678777.0                        0.0           0.0   \n",
       "3  956678856.0                        0.0           0.0   \n",
       "4  956678856.0                        0.0           0.0   \n",
       "\n",
       "   genre_Action|Adventure  genre_Action|Adventure|Animation  \\\n",
       "0                     0.0                               0.0   \n",
       "1                     0.0                               0.0   \n",
       "2                     0.0                               0.0   \n",
       "3                     0.0                               0.0   \n",
       "4                     0.0                               0.0   \n",
       "\n",
       "   genre_Action|Adventure|Animation|Children's|Fantasy  \\\n",
       "0                                                0.0     \n",
       "1                                                0.0     \n",
       "2                                                0.0     \n",
       "3                                                0.0     \n",
       "4                                                0.0     \n",
       "\n",
       "   genre_Action|Adventure|Animation|Horror|Sci-Fi  \\\n",
       "0                                             0.0   \n",
       "1                                             0.0   \n",
       "2                                             0.0   \n",
       "3                                             0.0   \n",
       "4                                             0.0   \n",
       "\n",
       "   genre_Action|Adventure|Children's|Comedy  \\\n",
       "0                                       0.0   \n",
       "1                                       0.0   \n",
       "2                                       0.0   \n",
       "3                                       0.0   \n",
       "4                                       0.0   \n",
       "\n",
       "   genre_Action|Adventure|Children's|Fantasy  \\\n",
       "0                                        0.0   \n",
       "1                                        0.0   \n",
       "2                                        0.0   \n",
       "3                                        0.0   \n",
       "4                                        0.0   \n",
       "\n",
       "   genre_Action|Adventure|Children's|Sci-Fi      ...       occupation_19  \\\n",
       "0                                       0.0      ...                 0.0   \n",
       "1                                       0.0      ...                 0.0   \n",
       "2                                       0.0      ...                 0.0   \n",
       "3                                       0.0      ...                 0.0   \n",
       "4                                       0.0      ...                 0.0   \n",
       "\n",
       "   occupation_2  occupation_20  occupation_3  occupation_4  occupation_5  \\\n",
       "0           0.0            0.0           0.0           0.0           0.0   \n",
       "1           0.0            0.0           0.0           0.0           0.0   \n",
       "2           0.0            0.0           0.0           0.0           0.0   \n",
       "3           0.0            0.0           0.0           0.0           0.0   \n",
       "4           0.0            0.0           0.0           0.0           0.0   \n",
       "\n",
       "   occupation_6  occupation_7  occupation_8  occupation_9  \n",
       "0           1.0           0.0           0.0           0.0  \n",
       "1           1.0           0.0           0.0           0.0  \n",
       "2           1.0           0.0           0.0           0.0  \n",
       "3           1.0           0.0           0.0           0.0  \n",
       "4           1.0           0.0           0.0           0.0  \n",
       "\n",
       "[5 rows x 325 columns]"
      ]
     },
     "execution_count": 24,
     "metadata": {},
     "output_type": "execute_result"
    }
   ],
   "source": [
    "col_names = ['timestamp'] + list(new_cols)\n",
    "ohe_data = np.concatenate((newdata[['timestamp']].toPandas(),ohe_data),axis=1)\n",
    "X = pd.DataFrame(ohe_data,columns=col_names)\n",
    "X.head()"
   ]
  },
  {
   "cell_type": "code",
   "execution_count": 25,
   "metadata": {},
   "outputs": [
    {
     "data": {
      "text/plain": [
       "['timestamp',\n",
       " 'genre_ Miami Beach (1988)',\n",
       " 'genre_Action',\n",
       " 'genre_Action|Adventure',\n",
       " 'genre_Action|Adventure|Animation',\n",
       " \"genre_Action|Adventure|Animation|Children's|Fantasy\",\n",
       " 'genre_Action|Adventure|Animation|Horror|Sci-Fi',\n",
       " \"genre_Action|Adventure|Children's|Comedy\",\n",
       " \"genre_Action|Adventure|Children's|Fantasy\",\n",
       " \"genre_Action|Adventure|Children's|Sci-Fi\"]"
      ]
     },
     "execution_count": 25,
     "metadata": {},
     "output_type": "execute_result"
    }
   ],
   "source": [
    "col_names[:10]"
   ]
  },
  {
   "cell_type": "markdown",
   "metadata": {},
   "source": [
    "# KNN with Movie Data"
   ]
  },
  {
   "cell_type": "code",
   "execution_count": 26,
   "metadata": {},
   "outputs": [],
   "source": [
    "y = newdata['rating']\n",
    "\n",
    "targets = newdata.toPandas()\n",
    "\n",
    "y = targets['rating']"
   ]
  },
  {
   "cell_type": "code",
   "execution_count": 27,
   "metadata": {},
   "outputs": [
    {
     "name": "stdout",
     "output_type": "stream",
     "text": [
      "[1 4 4 ... 5 4 4]\n",
      "Precision Score: [0.2299225  0.20371573 0.32100098 0.40674046 0.39316887]\n",
      "Recall Score: [0.22479684 0.17958997 0.38126861 0.44300352 0.28003699]\n",
      "Accuracy Score: 0.3501595280109798\n",
      "F1 Score: [0.22733078 0.1908936  0.34854876 0.42409822 0.32709705]\n"
     ]
    }
   ],
   "source": [
    "from sklearn.model_selection import train_test_split\n",
    "\n",
    "X_train, X_test, y_train, y_test = train_test_split(X, y)\n",
    "\n",
    "from sklearn.neighbors import KNeighborsClassifier\n",
    "clf = KNeighborsClassifier()\n",
    "clf.fit(X_train, y_train)\n",
    "test_preds = clf.predict(X_test)\n",
    "\n",
    "print(test_preds)\n",
    "\n",
    "from sklearn.metrics import precision_score, recall_score, accuracy_score, f1_score\n",
    "\n",
    "\n",
    "def print_metrics(labels, preds):\n",
    "    print(\"Precision Score: {}\".format(precision_score(labels, preds, average=None)))\n",
    "    print(\"Recall Score: {}\".format(recall_score(labels, preds, average=None)))\n",
    "    print(\"Accuracy Score: {}\".format(accuracy_score(labels, preds)))\n",
    "    print(\"F1 Score: {}\".format(f1_score(labels, preds, average=None)))\n",
    "\n",
    "print_metrics(y_test, test_preds) \n",
    "\n"
   ]
  },
  {
   "cell_type": "code",
   "execution_count": null,
   "metadata": {},
   "outputs": [],
   "source": []
  }
 ],
 "metadata": {
  "kernelspec": {
   "display_name": "learn-env",
   "language": "python",
   "name": "learn-env"
  },
  "language_info": {
   "codemirror_mode": {
    "name": "ipython",
    "version": 3
   },
   "file_extension": ".py",
   "mimetype": "text/x-python",
   "name": "python",
   "nbconvert_exporter": "python",
   "pygments_lexer": "ipython3",
   "version": "3.7.0"
  }
 },
 "nbformat": 4,
 "nbformat_minor": 2
}
